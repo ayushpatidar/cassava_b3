{
 "cells": [
  {
   "cell_type": "code",
   "execution_count": 1,
   "metadata": {
    "execution": {
     "iopub.execute_input": "2020-12-27T07:05:17.102095Z",
     "iopub.status.busy": "2020-12-27T07:05:17.101469Z",
     "iopub.status.idle": "2020-12-27T07:05:20.940670Z",
     "shell.execute_reply": "2020-12-27T07:05:20.940035Z"
    },
    "papermill": {
     "duration": 3.881646,
     "end_time": "2020-12-27T07:05:20.940800",
     "exception": false,
     "start_time": "2020-12-27T07:05:17.059154",
     "status": "completed"
    },
    "tags": []
   },
   "outputs": [],
   "source": [
    "import pandas as pd \n",
    "import numpy as np\n",
    "import cv2 \n",
    "import os\n",
    "from PIL import Image\n",
    "import torch \n",
    "from torch.utils.data import Dataset, DataLoader\n",
    "from torch.cuda.amp import autocast, GradScaler\n",
    "import torch.nn.functional as F\n",
    "from matplotlib import pyplot as plt\n",
    "from torch import nn\n",
    "import torchvision.models as models\n",
    "from torch.optim.lr_scheduler import ReduceLROnPlateau, CosineAnnealingWarmRestarts\n",
    "import albumentations as albu\n",
    "from sklearn.model_selection import KFold, StratifiedKFold\n",
    "from sklearn.metrics import confusion_matrix\n",
    "from torch.optim import Adam\n",
    "import random\n",
    "import sys\n",
    "sys.path.append('../input/efficientnet-pytorch/EfficientNet-PyTorch/EfficientNet-PyTorch-master')\n",
    "\n",
    "sys.path.append('/workspace/pytorch-image-models-master')\n",
    "\n",
    "import timm\n",
    "import time"
   ]
  },
  {
   "cell_type": "code",
   "execution_count": 2,
   "metadata": {
    "_cell_guid": "79c7e3d0-c299-4dcb-8224-4455121ee9b0",
    "_uuid": "d629ff2d2480ee46fbb7e2d37f6b5fab8052498a",
    "execution": {
     "iopub.execute_input": "2020-12-27T07:05:21.012942Z",
     "iopub.status.busy": "2020-12-27T07:05:21.012202Z",
     "iopub.status.idle": "2020-12-27T07:05:21.016135Z",
     "shell.execute_reply": "2020-12-27T07:05:21.015620Z"
    },
    "papermill": {
     "duration": 0.041875,
     "end_time": "2020-12-27T07:05:21.016233",
     "exception": false,
     "start_time": "2020-12-27T07:05:20.974358",
     "status": "completed"
    },
    "tags": []
   },
   "outputs": [],
   "source": [
    "# train_path = '../input/cassava-leaf-disease-classification/train.csv'\n",
    "# train_image_path = '../input/cassava-leaf-disease-classification/train_images/'\n",
    "# test_image_path = '../input/cassava-leaf-disease-classification/test_images/'\n",
    "model_path = './'\n",
    "\n",
    "train_path = '/workspace/train.csv'\n",
    "train_image_path = '/workspace/train_images/'\n",
    "test_image_path = '/workspace/test_images/'\n",
    "\n",
    "nfold = 5\n",
    "EPOCH = 11\n",
    "batch_size =16\n",
    "image_dim = 512\n",
    "early_stopping = 8\n",
    "CUDA_LAUNCH_BLOCKING=1"
   ]
  },
  {
   "cell_type": "code",
   "execution_count": 3,
   "metadata": {
    "execution": {
     "iopub.execute_input": "2020-12-27T07:05:21.089962Z",
     "iopub.status.busy": "2020-12-27T07:05:21.088118Z",
     "iopub.status.idle": "2020-12-27T07:05:21.090665Z",
     "shell.execute_reply": "2020-12-27T07:05:21.091158Z"
    },
    "papermill": {
     "duration": 0.042397,
     "end_time": "2020-12-27T07:05:21.091267",
     "exception": false,
     "start_time": "2020-12-27T07:05:21.048870",
     "status": "completed"
    },
    "tags": []
   },
   "outputs": [],
   "source": [
    "# def seed_everything(seed=105):\n",
    "#     random.seed(seed)\n",
    "#     os.environ['PYTHONHASHSEED'] = str(seed)\n",
    "#     np.random.seed(seed)\n",
    "#     torch.manual_seed(seed)\n",
    "#     torch.cuda.manual_seed(seed)\n",
    "#     torch.backends.cudnn.deterministic = True\n",
    "    \n",
    "def seed_everything(seed):\n",
    "    random.seed(seed)\n",
    "    os.environ['PYTHONHASHSEED'] = str(seed)\n",
    "    np.random.seed(seed)\n",
    "    torch.manual_seed(seed)\n",
    "    torch.cuda.manual_seed(seed)\n",
    "    torch.backends.cudnn.deterministic = True\n",
    "    torch.backends.cudnn.benchmark = True"
   ]
  },
  {
   "cell_type": "code",
   "execution_count": 4,
   "metadata": {
    "execution": {
     "iopub.execute_input": "2020-12-27T07:05:21.513708Z",
     "iopub.status.busy": "2020-12-27T07:05:21.512946Z",
     "iopub.status.idle": "2020-12-27T07:05:21.517409Z",
     "shell.execute_reply": "2020-12-27T07:05:21.516929Z"
    },
    "papermill": {
     "duration": 0.392491,
     "end_time": "2020-12-27T07:05:21.517587",
     "exception": false,
     "start_time": "2020-12-27T07:05:21.125096",
     "status": "completed"
    },
    "tags": []
   },
   "outputs": [],
   "source": [
    "device = ('cuda' if torch.cuda.is_available() else 'cpu')"
   ]
  },
  {
   "cell_type": "code",
   "execution_count": 5,
   "metadata": {
    "execution": {
     "iopub.execute_input": "2020-12-27T07:05:21.588581Z",
     "iopub.status.busy": "2020-12-27T07:05:21.587928Z",
     "iopub.status.idle": "2020-12-27T07:05:21.593986Z",
     "shell.execute_reply": "2020-12-27T07:05:21.593514Z"
    },
    "papermill": {
     "duration": 0.043921,
     "end_time": "2020-12-27T07:05:21.594087",
     "exception": false,
     "start_time": "2020-12-27T07:05:21.550166",
     "status": "completed"
    },
    "tags": []
   },
   "outputs": [
    {
     "data": {
      "text/plain": [
       "'cuda'"
      ]
     },
     "execution_count": 5,
     "metadata": {},
     "output_type": "execute_result"
    }
   ],
   "source": [
    "device"
   ]
  },
  {
   "cell_type": "code",
   "execution_count": 6,
   "metadata": {
    "execution": {
     "iopub.execute_input": "2020-12-27T07:05:21.673064Z",
     "iopub.status.busy": "2020-12-27T07:05:21.672389Z",
     "iopub.status.idle": "2020-12-27T07:05:21.699075Z",
     "shell.execute_reply": "2020-12-27T07:05:21.698176Z"
    },
    "papermill": {
     "duration": 0.070395,
     "end_time": "2020-12-27T07:05:21.699192",
     "exception": false,
     "start_time": "2020-12-27T07:05:21.628797",
     "status": "completed"
    },
    "tags": []
   },
   "outputs": [],
   "source": [
    "train = pd.read_csv(train_path)"
   ]
  },
  {
   "cell_type": "code",
   "execution_count": 7,
   "metadata": {
    "execution": {
     "iopub.execute_input": "2020-12-27T07:05:21.811510Z",
     "iopub.status.busy": "2020-12-27T07:05:21.807294Z",
     "iopub.status.idle": "2020-12-27T07:05:21.818570Z",
     "shell.execute_reply": "2020-12-27T07:05:21.819106Z"
    },
    "papermill": {
     "duration": 0.053317,
     "end_time": "2020-12-27T07:05:21.819227",
     "exception": false,
     "start_time": "2020-12-27T07:05:21.765910",
     "status": "completed"
    },
    "tags": []
   },
   "outputs": [
    {
     "data": {
      "text/html": [
       "<div>\n",
       "<style scoped>\n",
       "    .dataframe tbody tr th:only-of-type {\n",
       "        vertical-align: middle;\n",
       "    }\n",
       "\n",
       "    .dataframe tbody tr th {\n",
       "        vertical-align: top;\n",
       "    }\n",
       "\n",
       "    .dataframe thead th {\n",
       "        text-align: right;\n",
       "    }\n",
       "</style>\n",
       "<table border=\"1\" class=\"dataframe\">\n",
       "  <thead>\n",
       "    <tr style=\"text-align: right;\">\n",
       "      <th></th>\n",
       "      <th>image_id</th>\n",
       "      <th>label</th>\n",
       "    </tr>\n",
       "  </thead>\n",
       "  <tbody>\n",
       "    <tr>\n",
       "      <th>0</th>\n",
       "      <td>1000015157.jpg</td>\n",
       "      <td>0</td>\n",
       "    </tr>\n",
       "    <tr>\n",
       "      <th>1</th>\n",
       "      <td>1000201771.jpg</td>\n",
       "      <td>3</td>\n",
       "    </tr>\n",
       "    <tr>\n",
       "      <th>2</th>\n",
       "      <td>100042118.jpg</td>\n",
       "      <td>1</td>\n",
       "    </tr>\n",
       "    <tr>\n",
       "      <th>3</th>\n",
       "      <td>1000723321.jpg</td>\n",
       "      <td>1</td>\n",
       "    </tr>\n",
       "    <tr>\n",
       "      <th>4</th>\n",
       "      <td>1000812911.jpg</td>\n",
       "      <td>3</td>\n",
       "    </tr>\n",
       "  </tbody>\n",
       "</table>\n",
       "</div>"
      ],
      "text/plain": [
       "         image_id  label\n",
       "0  1000015157.jpg      0\n",
       "1  1000201771.jpg      3\n",
       "2   100042118.jpg      1\n",
       "3  1000723321.jpg      1\n",
       "4  1000812911.jpg      3"
      ]
     },
     "execution_count": 7,
     "metadata": {},
     "output_type": "execute_result"
    }
   ],
   "source": [
    "train.head()"
   ]
  },
  {
   "cell_type": "code",
   "execution_count": 8,
   "metadata": {
    "execution": {
     "iopub.execute_input": "2020-12-27T07:05:21.896545Z",
     "iopub.status.busy": "2020-12-27T07:05:21.895751Z",
     "iopub.status.idle": "2020-12-27T07:05:21.901612Z",
     "shell.execute_reply": "2020-12-27T07:05:21.900871Z"
    },
    "papermill": {
     "duration": 0.048993,
     "end_time": "2020-12-27T07:05:21.901757",
     "exception": false,
     "start_time": "2020-12-27T07:05:21.852764",
     "status": "completed"
    },
    "tags": []
   },
   "outputs": [
    {
     "name": "stdout",
     "output_type": "stream",
     "text": [
      "Train shape is..(21397, 2)\n"
     ]
    }
   ],
   "source": [
    "print(\"Train shape is..{}\".format(train.shape))"
   ]
  },
  {
   "cell_type": "code",
   "execution_count": 9,
   "metadata": {
    "execution": {
     "iopub.execute_input": "2020-12-27T07:05:21.978183Z",
     "iopub.status.busy": "2020-12-27T07:05:21.977610Z",
     "iopub.status.idle": "2020-12-27T07:05:21.982213Z",
     "shell.execute_reply": "2020-12-27T07:05:21.981683Z"
    },
    "papermill": {
     "duration": 0.044729,
     "end_time": "2020-12-27T07:05:21.982324",
     "exception": false,
     "start_time": "2020-12-27T07:05:21.937595",
     "status": "completed"
    },
    "tags": []
   },
   "outputs": [],
   "source": [
    "target_col = 'label'\n",
    "nclasses = train[target_col].nunique()"
   ]
  },
  {
   "cell_type": "code",
   "execution_count": null,
   "metadata": {
    "papermill": {
     "duration": 0.036163,
     "end_time": "2020-12-27T07:05:22.054275",
     "exception": false,
     "start_time": "2020-12-27T07:05:22.018112",
     "status": "completed"
    },
    "tags": []
   },
   "outputs": [],
   "source": []
  },
  {
   "cell_type": "code",
   "execution_count": 10,
   "metadata": {
    "execution": {
     "iopub.execute_input": "2020-12-27T07:05:22.135726Z",
     "iopub.status.busy": "2020-12-27T07:05:22.134955Z",
     "iopub.status.idle": "2020-12-27T07:05:24.953107Z",
     "shell.execute_reply": "2020-12-27T07:05:24.953665Z"
    },
    "papermill": {
     "duration": 2.863896,
     "end_time": "2020-12-27T07:05:24.953845",
     "exception": false,
     "start_time": "2020-12-27T07:05:22.089949",
     "status": "completed"
    },
    "tags": []
   },
   "outputs": [
    {
     "data": {
      "image/png": "[encoded data removed]",
      "text/plain": [
       "<Figure size 720x720 with 9 Axes>"
      ]
     },
     "metadata": {
      "needs_background": "light"
     },
     "output_type": "display_data"
    }
   ],
   "source": [
    "# Load an image..\n",
    "fig, axs = plt.subplots(ncols=3, nrows=3, figsize=(10, 10))\n",
    "\n",
    "for col in range(3):\n",
    "    for iter in range(3):\n",
    "        image_id = os.path.join(train_image_path, train.iloc[iter]['image_id'])\n",
    "        \n",
    "        image = cv2.imread(image_id)\n",
    "        \n",
    "        fig.suptitle('Vertically stacked subplots')\n",
    "        axs[iter][col].imshow(image)\n",
    "        axs[iter][col].imshow(image)\n",
    "        axs[iter][col].imshow(image)"
   ]
  },
  {
   "cell_type": "code",
   "execution_count": 11,
   "metadata": {
    "execution": {
     "iopub.execute_input": "2020-12-27T07:05:25.048768Z",
     "iopub.status.busy": "2020-12-27T07:05:25.048027Z",
     "iopub.status.idle": "2020-12-27T07:05:25.054402Z",
     "shell.execute_reply": "2020-12-27T07:05:25.055151Z"
    },
    "papermill": {
     "duration": 0.058853,
     "end_time": "2020-12-27T07:05:25.055313",
     "exception": false,
     "start_time": "2020-12-27T07:05:24.996460",
     "status": "completed"
    },
    "tags": []
   },
   "outputs": [
    {
     "data": {
      "text/html": [
       "<div>\n",
       "<style scoped>\n",
       "    .dataframe tbody tr th:only-of-type {\n",
       "        vertical-align: middle;\n",
       "    }\n",
       "\n",
       "    .dataframe tbody tr th {\n",
       "        vertical-align: top;\n",
       "    }\n",
       "\n",
       "    .dataframe thead th {\n",
       "        text-align: right;\n",
       "    }\n",
       "</style>\n",
       "<table border=\"1\" class=\"dataframe\">\n",
       "  <thead>\n",
       "    <tr style=\"text-align: right;\">\n",
       "      <th></th>\n",
       "      <th>image_id</th>\n",
       "      <th>label</th>\n",
       "    </tr>\n",
       "  </thead>\n",
       "  <tbody>\n",
       "    <tr>\n",
       "      <th>0</th>\n",
       "      <td>1000015157.jpg</td>\n",
       "      <td>0</td>\n",
       "    </tr>\n",
       "    <tr>\n",
       "      <th>1</th>\n",
       "      <td>1000201771.jpg</td>\n",
       "      <td>3</td>\n",
       "    </tr>\n",
       "    <tr>\n",
       "      <th>2</th>\n",
       "      <td>100042118.jpg</td>\n",
       "      <td>1</td>\n",
       "    </tr>\n",
       "    <tr>\n",
       "      <th>3</th>\n",
       "      <td>1000723321.jpg</td>\n",
       "      <td>1</td>\n",
       "    </tr>\n",
       "    <tr>\n",
       "      <th>4</th>\n",
       "      <td>1000812911.jpg</td>\n",
       "      <td>3</td>\n",
       "    </tr>\n",
       "    <tr>\n",
       "      <th>...</th>\n",
       "      <td>...</td>\n",
       "      <td>...</td>\n",
       "    </tr>\n",
       "    <tr>\n",
       "      <th>21392</th>\n",
       "      <td>999068805.jpg</td>\n",
       "      <td>3</td>\n",
       "    </tr>\n",
       "    <tr>\n",
       "      <th>21393</th>\n",
       "      <td>999329392.jpg</td>\n",
       "      <td>3</td>\n",
       "    </tr>\n",
       "    <tr>\n",
       "      <th>21394</th>\n",
       "      <td>999474432.jpg</td>\n",
       "      <td>1</td>\n",
       "    </tr>\n",
       "    <tr>\n",
       "      <th>21395</th>\n",
       "      <td>999616605.jpg</td>\n",
       "      <td>4</td>\n",
       "    </tr>\n",
       "    <tr>\n",
       "      <th>21396</th>\n",
       "      <td>999998473.jpg</td>\n",
       "      <td>4</td>\n",
       "    </tr>\n",
       "  </tbody>\n",
       "</table>\n",
       "<p>21397 rows × 2 columns</p>\n",
       "</div>"
      ],
      "text/plain": [
       "             image_id  label\n",
       "0      1000015157.jpg      0\n",
       "1      1000201771.jpg      3\n",
       "2       100042118.jpg      1\n",
       "3      1000723321.jpg      1\n",
       "4      1000812911.jpg      3\n",
       "...               ...    ...\n",
       "21392   999068805.jpg      3\n",
       "21393   999329392.jpg      3\n",
       "21394   999474432.jpg      1\n",
       "21395   999616605.jpg      4\n",
       "21396   999998473.jpg      4\n",
       "\n",
       "[21397 rows x 2 columns]"
      ]
     },
     "execution_count": 11,
     "metadata": {},
     "output_type": "execute_result"
    }
   ],
   "source": [
    "train"
   ]
  },
  {
   "cell_type": "code",
   "execution_count": 12,
   "metadata": {
    "execution": {
     "iopub.execute_input": "2020-12-27T07:05:25.157497Z",
     "iopub.status.busy": "2020-12-27T07:05:25.156737Z",
     "iopub.status.idle": "2020-12-27T07:05:25.160356Z",
     "shell.execute_reply": "2020-12-27T07:05:25.159389Z"
    },
    "papermill": {
     "duration": 0.064893,
     "end_time": "2020-12-27T07:05:25.160491",
     "exception": false,
     "start_time": "2020-12-27T07:05:25.095598",
     "status": "completed"
    },
    "tags": []
   },
   "outputs": [],
   "source": [
    "class TrainDataset(Dataset):\n",
    "    \n",
    "    def __init__(self, df, target_col, transform, data_type):\n",
    "        self.df = df\n",
    "        self.target = target_col\n",
    "        self.transform = transform\n",
    "        self.data_type = data_type\n",
    "        \n",
    "    def __getitem__(self, ind):\n",
    "        \n",
    "        target = dict()\n",
    "        \n",
    "        # Extract Image Id\n",
    "        image_id = self.df.iloc[ind]['image_id']\n",
    "        image_path = os.path.join(train_image_path, image_id)\n",
    "        \n",
    "        \n",
    "        # Read image \n",
    "        imag = np.array(cv2.imread(image_path))\n",
    "        #imag = np.float32(imag)\n",
    "        \n",
    "       \n",
    "        \n",
    "        imag = cv2.cvtColor(imag, cv2.COLOR_BGR2RGB) \n",
    "        #print(image.shape)\n",
    "        \n",
    "        #print(image_path, image)\n",
    "        #print(image.shape)\n",
    "            \n",
    "        \n",
    "        data = {\n",
    "            \"x\": imag,\n",
    "            \"y\":self.df.iloc[ind][target_col]\n",
    "        }\n",
    "        \n",
    "        #print(\"before...\",imag)\n",
    "        \n",
    "        if self.transform:\n",
    "            trans = get_train_transforms()\n",
    "            data['x'] = trans(image = data['x'])['image']\n",
    "        #print(\"after....\",data['x'])\n",
    "            \n",
    "        #print(\"before shape is.................\", data['x'].shape)\n",
    "        \n",
    "            \n",
    "        \n",
    "        return data\n",
    "    \n",
    "    def resize_image(self, image):\n",
    "        \n",
    "        image = cv2.resize(image, (image_dim, image_dim))\n",
    "        \n",
    "        return image\n",
    "        \n",
    "        \n",
    "    def __len__(self):\n",
    "        return self.df.shape[0]\n",
    "    \n",
    "    \n",
    "    \n",
    "class TestDataset(Dataset):\n",
    "    \n",
    "    def __init__(self, df, target_col):\n",
    "    \n",
    "        self.df = df\n",
    "        self.target = target_col\n",
    "        \n",
    "    def __getitem__(self, index):\n",
    "        \n",
    "        target = dict()\n",
    "        \n",
    "        # Extract Image Id\n",
    "        image_id = self.df.iloc[ind]['image_id']\n",
    "        image_path = os.path.join(train_image_path, image_id)\n",
    "        \n",
    "        # Read image \n",
    "        image = np.array(cv2.imread(image_path))\n",
    "        image = cv2.cvtColor(image, cv2.COLOR_BGR2RGB) \n",
    "        \n",
    "        data = {\n",
    "            \"x\": np.float32(image)\n",
    "        }\n",
    "        \n",
    "        return data\n",
    "    \n",
    "    def resize_image(self, image):\n",
    "        \n",
    "        image = cv2.resize(image, (image_dim, image_dim))\n",
    "        \n",
    "        return image\n",
    "\n",
    "        \n",
    "        \n",
    "    def __len__(self):\n",
    "        return self.df.shape[0]\n",
    "    "
   ]
  },
  {
   "cell_type": "code",
   "execution_count": 13,
   "metadata": {
    "execution": {
     "iopub.execute_input": "2020-12-27T07:05:25.247682Z",
     "iopub.status.busy": "2020-12-27T07:05:25.245779Z",
     "iopub.status.idle": "2020-12-27T07:05:25.248474Z",
     "shell.execute_reply": "2020-12-27T07:05:25.248992Z"
    },
    "papermill": {
     "duration": 0.048956,
     "end_time": "2020-12-27T07:05:25.249127",
     "exception": false,
     "start_time": "2020-12-27T07:05:25.200171",
     "status": "completed"
    },
    "tags": []
   },
   "outputs": [],
   "source": [
    "# model  = models.resnet18(pretrained=True)\n"
   ]
  },
  {
   "cell_type": "code",
   "execution_count": 14,
   "metadata": {
    "execution": {
     "iopub.execute_input": "2020-12-27T07:05:25.333034Z",
     "iopub.status.busy": "2020-12-27T07:05:25.332135Z",
     "iopub.status.idle": "2020-12-27T07:05:25.334524Z",
     "shell.execute_reply": "2020-12-27T07:05:25.335079Z"
    },
    "papermill": {
     "duration": 0.046737,
     "end_time": "2020-12-27T07:05:25.335203",
     "exception": false,
     "start_time": "2020-12-27T07:05:25.288466",
     "status": "completed"
    },
    "tags": []
   },
   "outputs": [],
   "source": [
    "# for param in model.parameters():\n",
    "#     print(param.requires_grad)"
   ]
  },
  {
   "cell_type": "code",
   "execution_count": 15,
   "metadata": {
    "execution": {
     "iopub.execute_input": "2020-12-27T07:05:25.422998Z",
     "iopub.status.busy": "2020-12-27T07:05:25.422056Z",
     "iopub.status.idle": "2020-12-27T07:05:25.425249Z",
     "shell.execute_reply": "2020-12-27T07:05:25.424692Z"
    },
    "papermill": {
     "duration": 0.050385,
     "end_time": "2020-12-27T07:05:25.425349",
     "exception": false,
     "start_time": "2020-12-27T07:05:25.374964",
     "status": "completed"
    },
    "tags": []
   },
   "outputs": [],
   "source": [
    "# nn.Sequential(*(list(model.children())[:-1]))"
   ]
  },
  {
   "cell_type": "code",
   "execution_count": 16,
   "metadata": {
    "execution": {
     "iopub.execute_input": "2020-12-27T07:05:25.518982Z",
     "iopub.status.busy": "2020-12-27T07:05:25.518048Z",
     "iopub.status.idle": "2020-12-27T07:05:25.522014Z",
     "shell.execute_reply": "2020-12-27T07:05:25.522696Z"
    },
    "papermill": {
     "duration": 0.057131,
     "end_time": "2020-12-27T07:05:25.522885",
     "exception": false,
     "start_time": "2020-12-27T07:05:25.465754",
     "status": "completed"
    },
    "tags": []
   },
   "outputs": [],
   "source": [
    "class Model(nn.Module):\n",
    "    \n",
    "    def __init__(self, in_feat, n_classes):\n",
    "        super().__init__()\n",
    "        \n",
    "#         #self.model = models.resnet18(pretrained=False)\n",
    "#         #self.model =  EfficientNet.from_name('efficientnet-b1')\n",
    "#         self.model = timm.create_model('resnext50_32x4d', pretrained=True)\n",
    "        \n",
    "#         #self.resnet = nn.Sequential(*list(self.model.children())[:-1])\n",
    "#         self.model.fc = nn.Sequential(nn.Linear(in_features=2048, out_features=n_classes))\n",
    "        \n",
    "        self.model = timm.create_model('tf_efficientnet_b4_ns', pretrained=True)\n",
    "        n_features = self.model.classifier.in_features\n",
    "        self.model.classifier = nn.Linear(n_features, n_classes)\n",
    "        \n",
    "    def forward(self, input_x):\n",
    "        out1 = self.model(input_x)\n",
    "        out1 = out1.view(out1.size(0), -1)\n",
    "        #output = self.fc(out1)\n",
    "        return out1\n"
   ]
  },
  {
   "cell_type": "code",
   "execution_count": 17,
   "metadata": {
    "execution": {
     "iopub.execute_input": "2020-12-27T07:05:25.611233Z",
     "iopub.status.busy": "2020-12-27T07:05:25.610442Z",
     "iopub.status.idle": "2020-12-27T07:05:25.613029Z",
     "shell.execute_reply": "2020-12-27T07:05:25.613706Z"
    },
    "papermill": {
     "duration": 0.048223,
     "end_time": "2020-12-27T07:05:25.613830",
     "exception": false,
     "start_time": "2020-12-27T07:05:25.565607",
     "status": "completed"
    },
    "tags": []
   },
   "outputs": [],
   "source": [
    "# Model(1000, 5)"
   ]
  },
  {
   "cell_type": "code",
   "execution_count": 18,
   "metadata": {
    "execution": {
     "iopub.execute_input": "2020-12-27T07:05:25.715334Z",
     "iopub.status.busy": "2020-12-27T07:05:25.714374Z",
     "iopub.status.idle": "2020-12-27T07:05:25.717332Z",
     "shell.execute_reply": "2020-12-27T07:05:25.716789Z"
    },
    "papermill": {
     "duration": 0.0623,
     "end_time": "2020-12-27T07:05:25.717450",
     "exception": false,
     "start_time": "2020-12-27T07:05:25.655150",
     "status": "completed"
    },
    "tags": []
   },
   "outputs": [],
   "source": [
    "def rand_bbox(size, lam):\n",
    "    W = size[2]\n",
    "    H = size[3]\n",
    "    cut_rat = np.sqrt(1. - lam)\n",
    "    cut_w = np.int(W * cut_rat)\n",
    "    cut_h = np.int(H * cut_rat)\n",
    "\n",
    "    # uniform\n",
    "    cx = np.random.randint(W)\n",
    "    cy = np.random.randint(H)\n",
    "\n",
    "    bbx1 = np.clip(cx - cut_w // 2, 0, W)\n",
    "    bby1 = np.clip(cy - cut_h // 2, 0, H)\n",
    "    bbx2 = np.clip(cx + cut_w // 2, 0, W)\n",
    "    bby2 = np.clip(cy + cut_h // 2, 0, H)\n",
    "    return bbx1, bby1, bbx2, bby2\n",
    "\n",
    "def cutmix(data, target, alpha):\n",
    "    indices = torch.randperm(data.size(0))\n",
    "    shuffled_data = data[indices]\n",
    "    shuffled_target = target[indices]\n",
    "\n",
    "    lam = np.clip(np.random.beta(alpha, alpha),0.3,0.4)\n",
    "    bbx1, bby1, bbx2, bby2 = rand_bbox(data.size(), lam)\n",
    "    new_data = data.clone()\n",
    "    new_data[:, :, bby1:bby2, bbx1:bbx2] = data[indices, :, bby1:bby2, bbx1:bbx2]\n",
    "    # adjust lambda to exactly match pixel ratio\n",
    "    lam = 1 - ((bbx2 - bbx1) * (bby2 - bby1) / (data.size()[-1] * data.size()[-2]))\n",
    "    targets = (target, shuffled_target, lam)\n",
    "\n",
    "    return new_data, targets\n",
    "\n",
    "def fmix(data, targets, alpha, decay_power, shape, max_soft=0.0, reformulate=False):\n",
    "    lam, mask = sample_mask(alpha, decay_power, shape, max_soft, reformulate)\n",
    "    #mask =torch.tensor(mask, device=device).float()\n",
    "    indices = torch.randperm(data.size(0))\n",
    "    shuffled_data = data[indices]\n",
    "    shuffled_targets = targets[indices]\n",
    "    x1 = torch.from_numpy(mask).to(device)*data\n",
    "    x2 = torch.from_numpy(1-mask).to(device)*shuffled_data\n",
    "    targets=(targets, shuffled_targets, lam)\n",
    "    \n",
    "    return (x1+x2), targets"
   ]
  },
  {
   "cell_type": "code",
   "execution_count": 19,
   "metadata": {
    "execution": {
     "iopub.execute_input": "2020-12-27T07:05:25.814309Z",
     "iopub.status.busy": "2020-12-27T07:05:25.808774Z",
     "iopub.status.idle": "2020-12-27T07:05:25.817596Z",
     "shell.execute_reply": "2020-12-27T07:05:25.817010Z"
    },
    "papermill": {
     "duration": 0.057731,
     "end_time": "2020-12-27T07:05:25.817708",
     "exception": false,
     "start_time": "2020-12-27T07:05:25.759977",
     "status": "completed"
    },
    "tags": []
   },
   "outputs": [],
   "source": [
    "from albumentations.pytorch import ToTensorV2\n",
    "from albumentations import (\n",
    "    HorizontalFlip, VerticalFlip, IAAPerspective, ShiftScaleRotate, CLAHE, RandomRotate90,\n",
    "    Transpose, ShiftScaleRotate, Blur, OpticalDistortion, GridDistortion, HueSaturationValue,\n",
    "    IAAAdditiveGaussianNoise, GaussNoise, MotionBlur, MedianBlur, IAAPiecewiseAffine, RandomResizedCrop,\n",
    "    IAASharpen, IAAEmboss, RandomBrightnessContrast, Flip, OneOf, Compose, Normalize, Cutout, CoarseDropout, ShiftScaleRotate, CenterCrop, Resize\n",
    ")\n",
    "\n",
    "\n",
    "def augmentation(img, dataset_type):\n",
    "    mean=[0.485, 0.456, 0.406]\n",
    "    std=[0.229, 0.224, 0.225]\n",
    "    \n",
    "    if dataset_type == 'train':\n",
    "        \n",
    "        print(\"train......................\")\n",
    "        aug = albu.Compose([\n",
    "                        RandomResizedCrop(512, 512),\n",
    "            Transpose(p=0.5),\n",
    "            HorizontalFlip(p=0.5),\n",
    "            VerticalFlip(p=0.5),\n",
    "            ShiftScaleRotate(p=0.5),\n",
    "            HueSaturationValue(hue_shift_limit=0.2, sat_shift_limit=0.2, val_shift_limit=0.2, p=0.5),\n",
    "            RandomBrightnessContrast(brightness_limit=(-0.1,0.1), contrast_limit=(-0.1, 0.1), p=0.5),\n",
    "            Normalize(mean=[0.485, 0.456, 0.406], std=[0.229, 0.224, 0.225], max_pixel_value=255.0, p=1.0),\n",
    "            CoarseDropout(p=0.5),\n",
    "            Cutout(p=0.5),\n",
    "            ToTensorV2(p=1.0),\n",
    "                        \n",
    "                    ], p=1.)\n",
    "    elif dataset_type == 'valid':\n",
    "        aug = albu.Compose([\n",
    "                         albu.CenterCrop(image_dim, image_dim, p=1.),\n",
    "                        albu.Resize(image_dim, image_dim),\n",
    "                        albu.Normalize(mean=[0.485, 0.456, 0.406], std=[0.229, 0.224, 0.225], max_pixel_value=255.0, p=1.0),\n",
    "        ], p=1.)\n",
    "        \n",
    "    elif dataset_type == 'test':\n",
    "        aug = albu.Compose([\n",
    "                    albu.Normalize(mean=mean, std=std, always_apply=True)\n",
    "        ])\n",
    "    \n",
    "        \n",
    "    return aug\n",
    "\n",
    "        "
   ]
  },
  {
   "cell_type": "code",
   "execution_count": 20,
   "metadata": {},
   "outputs": [],
   "source": [
    "from albumentations import (\n",
    "    HorizontalFlip, VerticalFlip, IAAPerspective, ShiftScaleRotate, CLAHE, RandomRotate90,\n",
    "    Transpose, ShiftScaleRotate, Blur, OpticalDistortion, GridDistortion, HueSaturationValue,\n",
    "    IAAAdditiveGaussianNoise, GaussNoise, MotionBlur, MedianBlur, IAAPiecewiseAffine, RandomResizedCrop,\n",
    "    IAASharpen, IAAEmboss, RandomBrightnessContrast, Flip, OneOf, Compose, Normalize, Cutout, CoarseDropout, ShiftScaleRotate, CenterCrop, Resize\n",
    ")\n",
    "\n",
    "from albumentations.pytorch import ToTensorV2\n",
    "\n",
    "def get_train_transforms():\n",
    "    return Compose([\n",
    "            RandomResizedCrop(512, 512),\n",
    "            Transpose(p=0.5),\n",
    "            HorizontalFlip(p=0.5),\n",
    "            VerticalFlip(p=0.5),\n",
    "            ShiftScaleRotate(p=0.5),\n",
    "            HueSaturationValue(hue_shift_limit=0.2, sat_shift_limit=0.2, val_shift_limit=0.2, p=0.5),\n",
    "            RandomBrightnessContrast(brightness_limit=(-0.1,0.1), contrast_limit=(-0.1, 0.1), p=0.5),\n",
    "            Normalize(mean=[0.485, 0.456, 0.406], std=[0.229, 0.224, 0.225], max_pixel_value=255.0, p=1.0),\n",
    "            CoarseDropout(p=0.5),\n",
    "            Cutout(p=0.5),\n",
    "            ToTensorV2(p=1.0),\n",
    "        ], p=1.)\n",
    "  \n",
    "        \n",
    "def get_valid_transforms():\n",
    "    return Compose([\n",
    "            CenterCrop(CFG['img_size'], CFG['img_size'], p=1.),\n",
    "            Resize(CFG['img_size'], CFG['img_size']),\n",
    "            Normalize(mean=[0.485, 0.456, 0.406], std=[0.229, 0.224, 0.225], max_pixel_value=255.0, p=1.0),\n",
    "            ToTensorV2(p=1.0),\n",
    "        ], p=1.)"
   ]
  },
  {
   "cell_type": "code",
   "execution_count": 21,
   "metadata": {
    "execution": {
     "iopub.execute_input": "2020-12-27T07:05:25.906474Z",
     "iopub.status.busy": "2020-12-27T07:05:25.905597Z",
     "iopub.status.idle": "2020-12-27T07:05:25.908209Z",
     "shell.execute_reply": "2020-12-27T07:05:25.908697Z"
    },
    "papermill": {
     "duration": 0.049745,
     "end_time": "2020-12-27T07:05:25.908832",
     "exception": false,
     "start_time": "2020-12-27T07:05:25.859087",
     "status": "completed"
    },
    "tags": []
   },
   "outputs": [],
   "source": [
    "results = dict()\n",
    "oof = np.zeros(len(train))"
   ]
  },
  {
   "cell_type": "code",
   "execution_count": 22,
   "metadata": {
    "execution": {
     "iopub.execute_input": "2020-12-27T07:05:26.000655Z",
     "iopub.status.busy": "2020-12-27T07:05:25.999345Z",
     "iopub.status.idle": "2020-12-27T07:05:26.003188Z",
     "shell.execute_reply": "2020-12-27T07:05:26.003878Z"
    },
    "papermill": {
     "duration": 0.053486,
     "end_time": "2020-12-27T07:05:26.004041",
     "exception": false,
     "start_time": "2020-12-27T07:05:25.950555",
     "status": "completed"
    },
    "tags": []
   },
   "outputs": [
    {
     "data": {
      "text/plain": [
       "(21397,)"
      ]
     },
     "execution_count": 22,
     "metadata": {},
     "output_type": "execute_result"
    }
   ],
   "source": [
    "oof.shape"
   ]
  },
  {
   "cell_type": "code",
   "execution_count": 23,
   "metadata": {
    "execution": {
     "iopub.execute_input": "2020-12-27T07:05:26.091699Z",
     "iopub.status.busy": "2020-12-27T07:05:26.090999Z",
     "iopub.status.idle": "2020-12-27T07:05:26.095215Z",
     "shell.execute_reply": "2020-12-27T07:05:26.094712Z"
    },
    "papermill": {
     "duration": 0.049849,
     "end_time": "2020-12-27T07:05:26.095312",
     "exception": false,
     "start_time": "2020-12-27T07:05:26.045463",
     "status": "completed"
    },
    "tags": []
   },
   "outputs": [],
   "source": [
    "def accuracy(true,pred):\n",
    "    train_acc = torch.sum(pred == true)\n",
    "    final_train_acc = train_acc.item()/len(pred)\n",
    "    return final_train_acc"
   ]
  },
  {
   "cell_type": "code",
   "execution_count": 24,
   "metadata": {
    "execution": {
     "iopub.execute_input": "2020-12-27T07:05:26.182180Z",
     "iopub.status.busy": "2020-12-27T07:05:26.181334Z",
     "iopub.status.idle": "2020-12-27T07:05:26.184313Z",
     "shell.execute_reply": "2020-12-27T07:05:26.183812Z"
    },
    "papermill": {
     "duration": 0.04698,
     "end_time": "2020-12-27T07:05:26.184429",
     "exception": false,
     "start_time": "2020-12-27T07:05:26.137449",
     "status": "completed"
    },
    "tags": []
   },
   "outputs": [],
   "source": [
    "# t1 = torch.Tensor([1,2,3])\n",
    "# t2 = torch.Tensor([0,2,3])"
   ]
  },
  {
   "cell_type": "code",
   "execution_count": 25,
   "metadata": {
    "execution": {
     "iopub.execute_input": "2020-12-27T07:05:26.271864Z",
     "iopub.status.busy": "2020-12-27T07:05:26.270947Z",
     "iopub.status.idle": "2020-12-27T07:05:26.273767Z",
     "shell.execute_reply": "2020-12-27T07:05:26.273250Z"
    },
    "papermill": {
     "duration": 0.049224,
     "end_time": "2020-12-27T07:05:26.273866",
     "exception": false,
     "start_time": "2020-12-27T07:05:26.224642",
     "status": "completed"
    },
    "tags": []
   },
   "outputs": [],
   "source": [
    "# a = accuracy(t1, t2)\n",
    "# print(a)"
   ]
  },
  {
   "cell_type": "code",
   "execution_count": 26,
   "metadata": {
    "execution": {
     "iopub.execute_input": "2020-12-27T07:05:26.363461Z",
     "iopub.status.busy": "2020-12-27T07:05:26.356665Z",
     "iopub.status.idle": "2020-12-27T07:05:26.366358Z",
     "shell.execute_reply": "2020-12-27T07:05:26.365801Z"
    },
    "papermill": {
     "duration": 0.05309,
     "end_time": "2020-12-27T07:05:26.366488",
     "exception": false,
     "start_time": "2020-12-27T07:05:26.313398",
     "status": "completed"
    },
    "tags": []
   },
   "outputs": [],
   "source": [
    "class CFG:\n",
    "    debug=False\n",
    "    apex=False\n",
    "    print_freq=100\n",
    "    num_workers=4\n",
    "    model_name='resnext50_32x4d'\n",
    "    size=256\n",
    "    scheduler='CosineAnnealingWarmRestarts' # ['ReduceLROnPlateau', 'CosineAnnealingLR', 'CosineAnnealingWarmRestarts']\n",
    "    epochs=10\n",
    "    #factor=0.2 # ReduceLROnPlateau\n",
    "    #patience=4 # ReduceLROnPlateau\n",
    "    #eps=1e-6 # ReduceLROnPlateau\n",
    "    #T_max=10 # CosineAnnealingLR\n",
    "    T_0=10 # CosineAnnealingWarmRestarts\n",
    "    lr=1e-4\n",
    "    min_lr=1e-6\n",
    "    batch_size=32\n",
    "    weight_decay=1e-6\n",
    "    gradient_accumulation_steps=1\n",
    "    max_grad_norm=1000\n",
    "    seed=456789\n",
    "    target_size=5\n",
    "    target_col='label'\n",
    "    n_fold=5\n",
    "    trn_fold=[0, 1, 2, 3, 4]\n",
    "    train=True\n",
    "    inference=False\n",
    "    accum_iter = 1\n",
    "    best_epochs = dict()\n",
    "    \n",
    "# if CFG.debug:\n",
    "#     CFG.epochs = 1\n",
    "#     train = train.sample(n=1000, random_state=CFG.seed).reset_index(drop=True)\n"
   ]
  },
  {
   "cell_type": "code",
   "execution_count": 27,
   "metadata": {
    "execution": {
     "iopub.execute_input": "2020-12-27T07:05:26.455529Z",
     "iopub.status.busy": "2020-12-27T07:05:26.454600Z",
     "iopub.status.idle": "2020-12-27T07:05:26.457574Z",
     "shell.execute_reply": "2020-12-27T07:05:26.456951Z"
    },
    "papermill": {
     "duration": 0.051404,
     "end_time": "2020-12-27T07:05:26.457675",
     "exception": false,
     "start_time": "2020-12-27T07:05:26.406271",
     "status": "completed"
    },
    "tags": []
   },
   "outputs": [],
   "source": [
    "class LabelSmoothingCrossEntropy(nn.Module):\n",
    "    def __init__(self):\n",
    "        super(LabelSmoothingCrossEntropy, self).__init__()\n",
    "    def forward(self, x, target, smoothing=0.0001):\n",
    "        confidence = 1. - smoothing\n",
    "        logprobs = F.log_softmax(x, dim=-1)\n",
    "        bcs_loss = nn.CrossEntropyLoss()(x, target)\n",
    "        smooth_loss = -logprobs.mean(dim=-1)\n",
    "        loss = confidence * bcs_loss + smoothing * smooth_loss\n",
    "        return loss.mean()\n",
    "    \n",
    "    \n",
    "class FocalCosineLoss(nn.Module):\n",
    "    def __init__(self, alpha=1, gamma=2, xent=.1):\n",
    "        super(FocalCosineLoss, self).__init__()\n",
    "        self.alpha = alpha\n",
    "        self.gamma = gamma\n",
    "\n",
    "        self.xent = xent\n",
    "\n",
    "        self.y = torch.Tensor([1]).cuda()\n",
    "\n",
    "    def forward(self, input, target, reduction=\"mean\"):\n",
    "        cosine_loss = F.cosine_embedding_loss(input, F.one_hot(target, num_classes=input.size(-1)), self.y, reduction=reduction)\n",
    "\n",
    "        cent_loss = F.cross_entropy(F.normalize(input), target, reduce=False)\n",
    "        pt = torch.exp(-cent_loss)\n",
    "        focal_loss = self.alpha * (1-pt)**self.gamma * cent_loss\n",
    "\n",
    "        if reduction == \"mean\":\n",
    "            focal_loss = torch.mean(focal_loss)\n",
    "\n",
    "        return cosine_loss + self.xent * focal_loss"
   ]
  },
  {
   "cell_type": "markdown",
   "metadata": {
    "papermill": {
     "duration": 0.041603,
     "end_time": "2020-12-27T07:05:26.542989",
     "exception": false,
     "start_time": "2020-12-27T07:05:26.501386",
     "status": "completed"
    },
    "tags": []
   },
   "source": []
  },
  {
   "cell_type": "code",
   "execution_count": 28,
   "metadata": {
    "execution": {
     "iopub.execute_input": "2020-12-27T07:05:26.627821Z",
     "iopub.status.busy": "2020-12-27T07:05:26.626644Z",
     "iopub.status.idle": "2020-12-27T07:05:26.679694Z",
     "shell.execute_reply": "2020-12-27T07:05:26.679167Z"
    },
    "papermill": {
     "duration": 0.096776,
     "end_time": "2020-12-27T07:05:26.679804",
     "exception": false,
     "start_time": "2020-12-27T07:05:26.583028",
     "status": "completed"
    },
    "tags": []
   },
   "outputs": [],
   "source": [
    "def train_fn(train_dataloader, model, opt, scaler):\n",
    "    #print(scaler)\n",
    "    \n",
    "    model.train()\n",
    "    epoch_loss = 0\n",
    "    global_step = 0\n",
    "    for step, batch in enumerate(train_dataloader):\n",
    "       \n",
    "        \n",
    "        image = batch['x'].to(device)\n",
    "        target = batch['y'].to(device)\n",
    "        \n",
    "#         print(\"image....\",image)\n",
    "#         print(\"shape............................\" ,image.shape)\n",
    "        \n",
    "        mix_decision = np.random.rand()\n",
    "        mix_decision = 1.0\n",
    "        if mix_decision <= 0.25:\n",
    "            image, targets = cutmix(image, target, 1.)\n",
    "            \n",
    "        \n",
    "        output = model(image)\n",
    "        #print(output)\n",
    "        loss = nn.CrossEntropyLoss().to(device)\n",
    "        \n",
    "        if mix_decision<=0.25:\n",
    "            y_preds = output\n",
    "            y_train = targets[0]\n",
    "            lam = targets[2]\n",
    "            y_train_shuffled = targets[1]\n",
    "            loss = loss(y_preds, y_train) * lam + loss(y_preds, y_train_shuffled) * (1. - lam)\n",
    "        else:\n",
    "            loss = loss(output, target)\n",
    "            \n",
    "            \n",
    "        #loss.backward()\n",
    "            \n",
    "    \n",
    "#         if ((step + 1) %  CFG.accum_iter == 0) or ((step + 1) == len(train_dataloader)):\n",
    "            \n",
    "            \n",
    "#                 # may unscale_ here if desired (e.g., to allow clipping unscaled gradients)\n",
    "\n",
    "#             scaler.step(opt)\n",
    "#             scaler.update()\n",
    "#             opt.zero_grad() \n",
    "        # measure elapsed time\n",
    "        \n",
    "        if CFG.gradient_accumulation_steps > 1:\n",
    "            loss = loss / CFG.gradient_accumulation_steps\n",
    "        if CFG.apex:\n",
    "            with amp.scale_loss(loss, optimizer) as scaled_loss:\n",
    "                scaled_loss.backward()\n",
    "        else:\n",
    "            loss.backward()\n",
    "        grad_norm = torch.nn.utils.clip_grad_norm_(model.parameters(), CFG.max_grad_norm)\n",
    "        if (step + 1) % CFG.gradient_accumulation_steps == 0:\n",
    "            opt.step()\n",
    "            opt.zero_grad()\n",
    "            global_step += 1\n",
    "      \n",
    "        epoch_loss += loss.item()\n",
    "        \n",
    "    print(\"Train loss is...\", epoch_loss)\n",
    "   \n",
    "    return model\n",
    "        \n",
    "    \n",
    "    \n",
    "\n",
    "def valid_fn(valid_dataloader, model, opt):\n",
    "    \n",
    "    valid_output = torch.Tensor().to(device)\n",
    "    true_label = torch.Tensor().to(device)\n",
    "    \n",
    "    model.eval()\n",
    "    with torch.no_grad():\n",
    "        for step, batch in enumerate(valid_dataloader):\n",
    "\n",
    "            image = batch['x'].to(device)\n",
    "            target = batch['y'].to(device)\n",
    "            \n",
    "            \n",
    "\n",
    "            output = model(image)\n",
    "            output = torch.argmax(output, axis=1)\n",
    "           \n",
    "\n",
    "            valid_output = torch.cat([valid_output, output], axis=0)\n",
    "            true_label = torch.cat([true_label,target], axis=0)\n",
    "\n",
    "        acc = accuracy(true_label, valid_output)\n",
    "        \n",
    "        \n",
    "    \n",
    "    return valid_output, acc\n",
    "\n",
    "\n",
    "def valid_fn1(valid_dataloader, model, opt, shape):\n",
    "    \n",
    "    \n",
    "    true_label = torch.Tensor().to(device)\n",
    "    valid_output = []\n",
    "    \n",
    "    model.eval()\n",
    "    with torch.no_grad():\n",
    "        for step, batch in enumerate(valid_dataloader):\n",
    "\n",
    "            image = batch['x'].to(device)\n",
    "            target = batch['y'].to(device)\n",
    "\n",
    "            output = model(image)\n",
    "\n",
    "            valid_output.append(output)\n",
    "            true_label = torch.cat([true_label,target], axis=0)\n",
    "\n",
    "        \n",
    "        \n",
    "        \n",
    "    valid_output = torch.cat(valid_output, dim=0) \n",
    "    return valid_output\n",
    "    \n",
    "       \n",
    "        \n",
    "    \n",
    "\n",
    "\n",
    "def run_single_fold(x_train, x_valid, y_train, y_valid, train_ind, valid_ind, fold):\n",
    "    print(\"Fold is...\", fold)\n",
    "    CFG.best_epochs[fold] = list()\n",
    "    model = Model(image_dim, nclasses)\n",
    "    \n",
    "    if torch.cuda.device_count() > 1:\n",
    "        \n",
    "        print(\"Let's use\", torch.cuda.device_count(), \"GPUs!\")\n",
    "        model = nn.DataParallel(model)\n",
    "    model.to(device)\n",
    "    \n",
    "    opt = Adam(model.parameters(), lr=CFG.lr, weight_decay=CFG.weight_decay, amsgrad=False)\n",
    "    #scheduler = ReduceLROnPlateau(optimizer=opt, mode='max', patience=1, verbose=True, factor=0.1)\n",
    "    scheduler = CosineAnnealingWarmRestarts(opt, T_0=CFG.T_0, T_mult=1, eta_min=CFG.min_lr, last_epoch=-1)\n",
    "    \n",
    "    train_dataset = TrainDataset(x_train, target_col, True, 'train')\n",
    "    valid_dataset = TrainDataset(x_valid, target_col, True, 'valid')\n",
    "    \n",
    "    train_dataloader = DataLoader(train_dataset, \n",
    "                                  batch_size=batch_size, \n",
    "                                  shuffle=True,\n",
    "                                 num_workers = 1,\n",
    "                                  drop_last=False,)\n",
    "    \n",
    "    valid_dataloader = DataLoader(valid_dataset, \n",
    "                                  batch_size=batch_size, \n",
    "                                  shuffle=False,\n",
    "                                 num_workers = 4)\n",
    "    \n",
    "    \n",
    "    best_loss = -9999999\n",
    "    stopping_critetion = 7\n",
    "    \n",
    "    scaler = GradScaler()\n",
    "    for epoch in range(EPOCH):\n",
    "        st = time.time()\n",
    "       \n",
    "        model = train_fn(train_dataloader, model, opt, scaler)\n",
    "        scheduler.step()\n",
    "        \n",
    "        output, acc =  valid_fn(valid_dataloader, model, opt)\n",
    "        \n",
    "        \n",
    "        print(\"EPOCH IS:{}, accuracy:{}\".format(epoch, acc), time.time()-st)\n",
    "        CFG.best_epochs[fold].append(acc)\n",
    "        \n",
    "        results['Epoch_'+str(epoch)] = acc\n",
    "        if acc>=best_loss:\n",
    "            best_loss = acc\n",
    "            best_output = output\n",
    "            stopping_critetion = early_stopping\n",
    "            \n",
    "           \n",
    "        else:\n",
    "            stopping_critetion = stopping_critetion - 1\n",
    "            \n",
    "        torch.save(model.state_dict(), str(fold) +\"_\"+ str(epoch)+\".pth\")\n",
    "            \n",
    "        if stopping_critetion<=0:\n",
    "            print(\"------------Early Stopping-------------\")\n",
    "            break\n",
    "        \n",
    "            \n",
    "    print(\"Best loss for fold:{} loss:{}\".format(fold, best_loss))\n",
    "    \n",
    "#     print(best_output.shape)\n",
    "#     print(oof[valid_ind].shape)\n",
    "#     print(best_output.cpu().numpy().shape)\n",
    "    best_epc = sorted(range(len(CFG.best_epochs[fold])), key=lambda k: CFG.best_epochs[fold][k])\n",
    "    best_epc = best_epc[-4:]\n",
    "    ensemble_output = np.zeros((len(x_valid), nclasses))\n",
    "    \n",
    "     \n",
    "    \n",
    "    print(len(valid_dataloader))\n",
    "    print(ensemble_output.shape)\n",
    "    \n",
    "    for iter1 in best_epc:\n",
    "        print(iter1)\n",
    "        model = Model(image_dim, nclasses).to(device)\n",
    "        \n",
    "        path = model_path+str(fold)+\"_\"+str(iter1)+\".pth\"\n",
    "        model.load_state_dict(torch.load(path))\n",
    "        tmp_output = valid_fn1(valid_dataloader, model, opt, x_valid.shape[0])\n",
    "    \n",
    "        ensemble_output = ensemble_output +tmp_output.cpu().numpy()\n",
    "        \n",
    "   \n",
    "    ensemble_output = np.argmax(ensemble_output, axis=1)\n",
    "    \n",
    "    print(\"Esembling accuracy.....\", accuracy(torch.Tensor(x_valid['label'].values), torch.Tensor(ensemble_output)))\n",
    "        \n",
    "    print(\"---CONFUSION MTRIX---\")\n",
    "    print(confusion_matrix(x_valid['label'].values, ensemble_output))\n",
    "        \n",
    "        \n",
    "    \n",
    "#     print(best_output.shape)\n",
    "#     print(oof[valid_ind].shape)\n",
    "#     print(best_output.cpu().numpy().shape)\n",
    "    oof[valid_ind] = oof[valid_ind]+ensemble_output\n",
    "        \n",
    "        \n",
    "        \n",
    "\n",
    "def run_Kfold():\n",
    "    fold = 0\n",
    "    ksplit = StratifiedKFold(n_splits=nfold, shuffle=True, random_state=719)\n",
    "    seed_everything(719)\n",
    "    for train_ind, valid_ind in ksplit.split(train, train['label']):\n",
    "        #print(train_ind)\n",
    "        \n",
    "        x_train, x_valid = train.iloc[train_ind], train.iloc[valid_ind]\n",
    "        y_train, y_valid = train.iloc[train_ind][target_col], train.iloc[valid_ind][target_col]\n",
    "\n",
    "        run_single_fold(x_train, x_valid, y_train, y_valid, train_ind, valid_ind, fold)\n",
    "\n",
    "        fold = fold+1\n",
    "    "
   ]
  },
  {
   "cell_type": "code",
   "execution_count": 29,
   "metadata": {
    "execution": {
     "iopub.execute_input": "2020-12-27T07:05:26.770502Z",
     "iopub.status.busy": "2020-12-27T07:05:26.769521Z",
     "iopub.status.idle": "2020-12-27T07:05:26.790300Z",
     "shell.execute_reply": "2020-12-27T07:05:26.791210Z"
    },
    "papermill": {
     "duration": 0.07178,
     "end_time": "2020-12-27T07:05:26.791393",
     "exception": false,
     "start_time": "2020-12-27T07:05:26.719613",
     "status": "completed"
    },
    "tags": []
   },
   "outputs": [
    {
     "name": "stdout",
     "output_type": "stream",
     "text": [
      "fold  label\n",
      "0     0         218\n",
      "      1         438\n",
      "      2         477\n",
      "      3        2631\n",
      "      4         516\n",
      "1     0         218\n",
      "      1         438\n",
      "      2         477\n",
      "      3        2631\n",
      "      4         516\n",
      "2     0         217\n",
      "      1         438\n",
      "      2         477\n",
      "      3        2632\n",
      "      4         515\n",
      "3     0         217\n",
      "      1         438\n",
      "      2         477\n",
      "      3        2632\n",
      "      4         515\n",
      "4     0         217\n",
      "      1         437\n",
      "      2         478\n",
      "      3        2632\n",
      "      4         515\n",
      "dtype: int64\n"
     ]
    }
   ],
   "source": [
    "folds = train.copy()\n",
    "Fold = StratifiedKFold(n_splits=CFG.n_fold, shuffle=True, random_state=47)\n",
    "for n, (train_index, val_index) in enumerate(Fold.split(folds, folds[CFG.target_col])):\n",
    "    folds.loc[val_index, 'fold'] = int(n)\n",
    "folds['fold'] = folds['fold'].astype(int)\n",
    "print(folds.groupby(['fold', CFG.target_col]).size())"
   ]
  },
  {
   "cell_type": "code",
   "execution_count": null,
   "metadata": {},
   "outputs": [],
   "source": []
  },
  {
   "cell_type": "code",
   "execution_count": 30,
   "metadata": {
    "execution": {
     "iopub.execute_input": "2020-12-27T07:05:26.880102Z",
     "iopub.status.busy": "2020-12-27T07:05:26.879272Z",
     "iopub.status.idle": "2020-12-27T09:53:06.670012Z",
     "shell.execute_reply": "2020-12-27T09:53:06.670606Z"
    },
    "papermill": {
     "duration": 10059.838846,
     "end_time": "2020-12-27T09:53:06.670790",
     "exception": false,
     "start_time": "2020-12-27T07:05:26.831944",
     "status": "completed"
    },
    "tags": []
   },
   "outputs": [
    {
     "name": "stdout",
     "output_type": "stream",
     "text": [
      "Fold is... 0\n",
      "Train loss is... 595.512485332787\n",
      "EPOCH IS:0, accuracy:0.8607476635514019 457.289039850235\n",
      "Train loss is... 447.8003895133734\n",
      "EPOCH IS:1, accuracy:0.8691588785046729 455.02154564857483\n",
      "Train loss is... 409.6810099557042\n",
      "EPOCH IS:2, accuracy:0.8754672897196262 454.9918942451477\n",
      "Train loss is... 381.49913442507386\n",
      "EPOCH IS:3, accuracy:0.8644859813084113 455.4563081264496\n",
      "Train loss is... 351.9753263629973\n",
      "EPOCH IS:4, accuracy:0.8719626168224299 454.588485956192\n",
      "Train loss is... 326.3871272094548\n",
      "EPOCH IS:5, accuracy:0.8792056074766356 455.73724913597107\n",
      "Train loss is... 302.6411335626617\n",
      "EPOCH IS:6, accuracy:0.8707943925233644 454.77936601638794\n",
      "Train loss is... 277.01143996976316\n",
      "EPOCH IS:7, accuracy:0.8724299065420561 455.5224492549896\n",
      "Train loss is... 267.88939378224313\n",
      "EPOCH IS:8, accuracy:0.8773364485981309 454.92364621162415\n",
      "Train loss is... 257.37138343881816\n",
      "EPOCH IS:9, accuracy:0.8740654205607477 455.0886092185974\n",
      "Train loss is... 322.8032512590289\n",
      "EPOCH IS:10, accuracy:0.8717289719626168 454.96848464012146\n",
      "Best loss for fold:0 loss:0.8792056074766356\n",
      "268\n",
      "(4280, 5)\n",
      "9\n",
      "2\n",
      "8\n",
      "5\n",
      "Esembling accuracy..... 0.8939252336448598\n",
      "---CONFUSION MTRIX---\n",
      "[[ 140   14    5   11   48]\n",
      " [  23  346   12   13   44]\n",
      " [   6   10  382   54   25]\n",
      " [   5   10   33 2563   20]\n",
      " [  35   22   31   33  395]]\n",
      "Fold is... 1\n",
      "Train loss is... 594.6891495138407\n",
      "EPOCH IS:0, accuracy:0.8549065420560747 455.38467144966125\n",
      "Train loss is... 450.62645534425974\n",
      "EPOCH IS:1, accuracy:0.8719626168224299 453.98257303237915\n",
      "Train loss is... 408.20452865958214\n",
      "EPOCH IS:2, accuracy:0.8710280373831776 455.0714433193207\n",
      "Train loss is... 382.3817116431892\n",
      "EPOCH IS:3, accuracy:0.8735981308411215 455.28523659706116\n",
      "Train loss is... 353.0162286758423\n",
      "EPOCH IS:4, accuracy:0.8719626168224299 454.6212058067322\n",
      "Train loss is... 329.8024664372206\n",
      "EPOCH IS:5, accuracy:0.8700934579439252 454.2388069629669\n",
      "Train loss is... 294.40904431790113\n",
      "EPOCH IS:6, accuracy:0.8773364485981309 453.8741147518158\n",
      "Train loss is... 276.7894295770675\n",
      "EPOCH IS:7, accuracy:0.8707943925233644 454.64052844047546\n",
      "Train loss is... 271.19484457187355\n",
      "EPOCH IS:8, accuracy:0.8782710280373832 453.3981945514679\n",
      "Train loss is... 252.21262721903622\n",
      "EPOCH IS:9, accuracy:0.8759345794392523 454.08518528938293\n",
      "Train loss is... 323.7958351634443\n",
      "EPOCH IS:10, accuracy:0.8579439252336448 453.08139848709106\n",
      "Best loss for fold:1 loss:0.8782710280373832\n",
      "268\n",
      "(4280, 5)\n",
      "3\n",
      "9\n",
      "6\n",
      "8\n",
      "Esembling accuracy..... 0.8941588785046729\n",
      "---CONFUSION MTRIX---\n",
      "[[ 136   10   10    7   55]\n",
      " [  20  357    4   19   38]\n",
      " [   1    6  380   56   34]\n",
      " [   4    8   23 2575   21]\n",
      " [  33   30   27   47  379]]\n",
      "Fold is... 2\n",
      "Train loss is... 591.3267440870404\n",
      "EPOCH IS:0, accuracy:0.854638934330451 455.91096019744873\n",
      "Train loss is... 450.0140113309026\n",
      "Train loss is... 408.3263214863837\n",
      "EPOCH IS:2, accuracy:0.8593129235802758 454.5587236881256\n",
      "Train loss is... 377.7786336801946\n",
      "EPOCH IS:3, accuracy:0.8691283010049077 454.17949390411377\n",
      "Train loss is... 358.7192421555519\n",
      "EPOCH IS:4, accuracy:0.8740359897172236 454.5589499473572\n",
      "Train loss is... 334.65504776127636\n",
      "EPOCH IS:5, accuracy:0.8791773778920309 454.0422213077545\n",
      "Train loss is... 311.95113542303443\n",
      "EPOCH IS:6, accuracy:0.8759055854171536 454.713223695755\n",
      "Train loss is... 283.4128076452762\n",
      "EPOCH IS:7, accuracy:0.8731011918672587 453.5927903652191\n",
      "Train loss is... 262.4885018095374\n",
      "EPOCH IS:8, accuracy:0.8789436784295396 454.38266587257385\n",
      "Train loss is... 254.08221666142344\n",
      "EPOCH IS:9, accuracy:0.8721663940172938 454.3300757408142\n",
      "Train loss is... 325.38926994614303\n",
      "EPOCH IS:10, accuracy:0.8709978967048376 453.6499698162079\n",
      "Best loss for fold:2 loss:0.8791773778920309\n",
      "268\n",
      "(4279, 5)\n",
      "4\n",
      "6\n",
      "8\n",
      "5\n",
      "Esembling accuracy..... 0.8927319467165226\n",
      "---CONFUSION MTRIX---\n",
      "[[ 135   11    5   11   55]\n",
      " [  16  350   12   14   46]\n",
      " [  14    7  376   54   26]\n",
      " [   6   15   28 2564   19]\n",
      " [  38   23   20   39  395]]\n",
      "Fold is... 3\n",
      "Train loss is... 603.8456397876143\n",
      "EPOCH IS:0, accuracy:0.8572096284178546 454.0275511741638\n",
      "Train loss is... 445.7824686355889\n",
      "EPOCH IS:1, accuracy:0.8604814208927319 454.91914677619934\n",
      "Train loss is... 414.14869371801615\n",
      "EPOCH IS:2, accuracy:0.8621173171301706 452.9937539100647\n",
      "Train loss is... 379.14469820447266\n",
      "EPOCH IS:3, accuracy:0.8752044870296798 454.02631092071533\n",
      "Train loss is... 352.3578313626349\n",
      "EPOCH IS:4, accuracy:0.8780088805795747 454.1021513938904\n",
      "Train loss is... 330.8006844446063\n",
      "EPOCH IS:5, accuracy:0.8780088805795747 454.352343082428\n",
      "Train loss is... 309.0134423542768\n",
      "EPOCH IS:6, accuracy:0.8819817714419257 453.44623494148254\n",
      "Train loss is... 276.42742129042745\n",
      "EPOCH IS:7, accuracy:0.87146529562982 453.13307070732117\n",
      "Train loss is... 261.90085348766297\n",
      "EPOCH IS:8, accuracy:0.8787099789670484 451.91509556770325\n",
      "Train loss is... 253.9297509957105\n",
      "EPOCH IS:9, accuracy:0.8845524655293293 452.05964374542236\n",
      "Train loss is... 323.4570559915155\n",
      "EPOCH IS:10, accuracy:0.866557606917504 453.53438687324524\n",
      "Best loss for fold:3 loss:0.8845524655293293\n",
      "268\n",
      "(4279, 5)\n",
      "5\n",
      "8\n",
      "6\n",
      "9\n",
      "Esembling accuracy..... 0.8969385370413648\n",
      "---CONFUSION MTRIX---\n",
      "[[ 138   14    4    6   55]\n",
      " [  16  355    8   18   41]\n",
      " [   5   13  389   46   24]\n",
      " [   2   14   33 2560   23]\n",
      " [  33   25   24   37  396]]\n",
      "Fold is... 4\n",
      "Train loss is... 598.903128631413\n",
      "EPOCH IS:0, accuracy:0.8649217106800654 454.4115059375763\n",
      "Train loss is... 451.93994461745024\n",
      "EPOCH IS:1, accuracy:0.8719326945548025 454.64412808418274\n",
      "Train loss is... 415.5014410763979\n",
      "EPOCH IS:2, accuracy:0.8829165692918907 454.533953666687\n",
      "Train loss is... 389.4564945809543\n",
      "EPOCH IS:3, accuracy:0.8826828698293994 454.08637166023254\n",
      "Train loss is... 350.75117241591215\n",
      "EPOCH IS:4, accuracy:0.8752044870296798 454.2931616306305\n",
      "Train loss is... 323.2195471804589\n",
      "EPOCH IS:5, accuracy:0.8754381864921711 453.20544815063477\n",
      "Train loss is... 305.3376158028841\n",
      "EPOCH IS:6, accuracy:0.8782425800420659 453.8396348953247\n",
      "Train loss is... 281.77111429721117\n",
      "EPOCH IS:7, accuracy:0.8789436784295396 453.03322744369507\n",
      "Train loss is... 264.42774008587\n",
      "EPOCH IS:8, accuracy:0.8836176676793643 454.51276874542236\n",
      "Train loss is... 257.02760152332485\n",
      "EPOCH IS:9, accuracy:0.8738022902547324 453.13097500801086\n",
      "Train loss is... 324.5701648397371\n",
      "EPOCH IS:10, accuracy:0.8784762795045571 452.75757026672363\n",
      "Best loss for fold:4 loss:0.8836176676793643\n",
      "268\n",
      "(4279, 5)\n",
      "7\n",
      "3\n",
      "2\n",
      "8\n",
      "Esembling accuracy..... 0.903014723066137\n",
      "---CONFUSION MTRIX---\n",
      "[[ 137   17    6   11   46]\n",
      " [  15  353   12   25   32]\n",
      " [   6    6  398   43   25]\n",
      " [   1   13   33 2559   26]\n",
      " [  22   13   23   40  417]]\n"
     ]
    }
   ],
   "source": [
    "run_Kfold()"
   ]
  },
  {
   "cell_type": "code",
   "execution_count": 31,
   "metadata": {
    "execution": {
     "iopub.execute_input": "2020-12-27T09:53:06.771298Z",
     "iopub.status.busy": "2020-12-27T09:53:06.770711Z",
     "iopub.status.idle": "2020-12-27T09:53:06.778266Z",
     "shell.execute_reply": "2020-12-27T09:53:06.777752Z"
    },
    "papermill": {
     "duration": 0.062478,
     "end_time": "2020-12-27T09:53:06.778374",
     "exception": false,
     "start_time": "2020-12-27T09:53:06.715896",
     "status": "completed"
    },
    "tags": []
   },
   "outputs": [
    {
     "data": {
      "text/plain": [
       "0.896153666401832"
      ]
     },
     "execution_count": 31,
     "metadata": {},
     "output_type": "execute_result"
    }
   ],
   "source": [
    "accuracy(torch.Tensor(train['label']), torch.Tensor(oof))"
   ]
  },
  {
   "cell_type": "code",
   "execution_count": null,
   "metadata": {
    "papermill": {
     "duration": 0.046171,
     "end_time": "2020-12-27T09:53:06.869555",
     "exception": false,
     "start_time": "2020-12-27T09:53:06.823384",
     "status": "completed"
    },
    "tags": []
   },
   "outputs": [],
   "source": []
  },
  {
   "cell_type": "code",
   "execution_count": 31,
   "metadata": {
    "execution": {
     "iopub.execute_input": "2020-12-27T09:53:06.966334Z",
     "iopub.status.busy": "2020-12-27T09:53:06.964504Z",
     "iopub.status.idle": "2020-12-27T09:53:06.967017Z",
     "shell.execute_reply": "2020-12-27T09:53:06.967495Z"
    },
    "papermill": {
     "duration": 0.052592,
     "end_time": "2020-12-27T09:53:06.967614",
     "exception": false,
     "start_time": "2020-12-27T09:53:06.915022",
     "status": "completed"
    },
    "tags": []
   },
   "outputs": [],
   "source": [
    "# cv2.imread('./workspace/train_images/3175363969.jpg')"
   ]
  },
  {
   "cell_type": "code",
   "execution_count": 31,
   "metadata": {
    "execution": {
     "iopub.execute_input": "2020-12-27T09:53:07.062486Z",
     "iopub.status.busy": "2020-12-27T09:53:07.061860Z",
     "iopub.status.idle": "2020-12-27T09:53:07.067266Z",
     "shell.execute_reply": "2020-12-27T09:53:07.066810Z"
    },
    "papermill": {
     "duration": 0.054586,
     "end_time": "2020-12-27T09:53:07.067371",
     "exception": false,
     "start_time": "2020-12-27T09:53:07.012785",
     "status": "completed"
    },
    "tags": []
   },
   "outputs": [
    {
     "data": {
      "text/plain": [
       "{0: [0.8654205607476636,\n",
       "  0.8759345794392523,\n",
       "  0.8803738317757009,\n",
       "  0.8815420560747663,\n",
       "  0.8824766355140187,\n",
       "  0.8866822429906542,\n",
       "  0.8908878504672897,\n",
       "  0.8829439252336448,\n",
       "  0.8866822429906542,\n",
       "  0.8892523364485981,\n",
       "  0.8871495327102804,\n",
       "  0.8862149532710281,\n",
       "  0.8857476635514019,\n",
       "  0.8869158878504673,\n",
       "  0.8871495327102804],\n",
       " 1: [0.8661214953271028,\n",
       "  0.8684579439252337,\n",
       "  0.8698598130841122,\n",
       "  0.8801401869158878,\n",
       "  0.8883177570093458,\n",
       "  0.8946261682242991,\n",
       "  0.8904205607476635,\n",
       "  0.8852803738317757,\n",
       "  0.8925233644859814,\n",
       "  0.8925233644859814,\n",
       "  0.888785046728972,\n",
       "  0.889018691588785,\n",
       "  0.8862149532710281,\n",
       "  0.8885514018691589],\n",
       " 2: [0.8523019397055387,\n",
       "  0.8663239074550129,\n",
       "  0.8716989950923113,\n",
       "  0.8709978967048376,\n",
       "  0.8747370881046974,\n",
       "  0.8826828698293994,\n",
       "  0.8850198644543118,\n",
       "  0.8836176676793643,\n",
       "  0.8845524655293293,\n",
       "  0.8854872633792942,\n",
       "  0.8752044870296798,\n",
       "  0.8766066838046273,\n",
       "  0.8845524655293293,\n",
       "  0.8731011918672587,\n",
       "  0.8815143725169432,\n",
       "  0.8854872633792942,\n",
       "  0.8847861649918205,\n",
       "  0.885253563916803],\n",
       " 3: [0.8408506660434681,\n",
       "  0.8705304977798551,\n",
       "  0.8745033886422061,\n",
       "  0.8691283010049077,\n",
       "  0.8756718859546623,\n",
       "  0.8838513671418555,\n",
       "  0.8840850666043468,\n",
       "  0.8871231596167329,\n",
       "  0.8859546623042767,\n",
       "  0.8838513671418555,\n",
       "  0.8726337929422763,\n",
       "  0.8831502687543819,\n",
       "  0.8840850666043468,\n",
       "  0.8824491703669082,\n",
       "  0.8822154709044169,\n",
       "  0.8831502687543819],\n",
       " 4: [0.867492404767469,\n",
       "  0.8651554101425567,\n",
       "  0.8798784762795046,\n",
       "  0.8826828698293994,\n",
       "  0.8770740827296097,\n",
       "  0.8845524655293293,\n",
       "  0.8854872633792942,\n",
       "  0.8871231596167329,\n",
       "  0.8885253563916803,\n",
       "  0.8906286515541014,\n",
       "  0.886188361766768,\n",
       "  0.8875905585417153,\n",
       "  0.8817480719794345,\n",
       "  0.889226454779154,\n",
       "  0.8826828698293994,\n",
       "  0.8845524655293293,\n",
       "  0.8819817714419257,\n",
       "  0.8873568590792241]}"
      ]
     },
     "execution_count": 31,
     "metadata": {},
     "output_type": "execute_result"
    }
   ],
   "source": [
    "CFG.best_epochs"
   ]
  },
  {
   "cell_type": "code",
   "execution_count": 30,
   "metadata": {
    "papermill": {
     "duration": 0.045257,
     "end_time": "2020-12-27T09:53:07.158828",
     "exception": false,
     "start_time": "2020-12-27T09:53:07.113571",
     "status": "completed"
    },
    "tags": []
   },
   "outputs": [
    {
     "data": {
      "text/plain": [
       "16"
      ]
     },
     "execution_count": 30,
     "metadata": {},
     "output_type": "execute_result"
    }
   ],
   "source": [
    "batch_size"
   ]
  },
  {
   "cell_type": "code",
   "execution_count": null,
   "metadata": {
    "papermill": {
     "duration": 0.045625,
     "end_time": "2020-12-27T09:53:07.249824",
     "exception": false,
     "start_time": "2020-12-27T09:53:07.204199",
     "status": "completed"
    },
    "tags": []
   },
   "outputs": [],
   "source": []
  },
  {
   "cell_type": "code",
   "execution_count": null,
   "metadata": {
    "papermill": {
     "duration": 0.071503,
     "end_time": "2020-12-27T09:53:07.369733",
     "exception": false,
     "start_time": "2020-12-27T09:53:07.298230",
     "status": "completed"
    },
    "tags": []
   },
   "outputs": [],
   "source": []
  },
  {
   "cell_type": "code",
   "execution_count": null,
   "metadata": {
    "papermill": {
     "duration": 0.068739,
     "end_time": "2020-12-27T09:53:07.509028",
     "exception": false,
     "start_time": "2020-12-27T09:53:07.440289",
     "status": "completed"
    },
    "tags": []
   },
   "outputs": [],
   "source": []
  },
  {
   "cell_type": "code",
   "execution_count": null,
   "metadata": {
    "papermill": {
     "duration": 0.066427,
     "end_time": "2020-12-27T09:53:07.642700",
     "exception": false,
     "start_time": "2020-12-27T09:53:07.576273",
     "status": "completed"
    },
    "tags": []
   },
   "outputs": [],
   "source": []
  },
  {
   "cell_type": "code",
   "execution_count": null,
   "metadata": {
    "papermill": {
     "duration": 0.067425,
     "end_time": "2020-12-27T09:53:07.775754",
     "exception": false,
     "start_time": "2020-12-27T09:53:07.708329",
     "status": "completed"
    },
    "tags": []
   },
   "outputs": [],
   "source": []
  },
  {
   "cell_type": "code",
   "execution_count": 33,
   "metadata": {
    "execution": {
     "iopub.execute_input": "2020-12-27T09:53:07.947779Z",
     "iopub.status.busy": "2020-12-27T09:53:07.946898Z",
     "iopub.status.idle": "2020-12-27T09:53:07.949813Z",
     "shell.execute_reply": "2020-12-27T09:53:07.950284Z"
    },
    "papermill": {
     "duration": 0.109182,
     "end_time": "2020-12-27T09:53:07.950398",
     "exception": false,
     "start_time": "2020-12-27T09:53:07.841216",
     "status": "completed"
    },
    "tags": []
   },
   "outputs": [
    {
     "data": {
      "text/plain": [
       "{1: [0.8595794392523365,\n",
       "  0.8682242990654205,\n",
       "  0.8820093457943925,\n",
       "  0.8894859813084112,\n",
       "  0.8841121495327103,\n",
       "  0.883177570093458,\n",
       "  0.8864485981308411,\n",
       "  0.8852803738317757,\n",
       "  0.8866822429906542,\n",
       "  0.8883177570093458,\n",
       "  0.8789719626168224]}"
      ]
     },
     "execution_count": 33,
     "metadata": {},
     "output_type": "execute_result"
    }
   ],
   "source": [
    "CFG.best_epochs"
   ]
  },
  {
   "cell_type": "code",
   "execution_count": null,
   "metadata": {
    "papermill": {
     "duration": 0.045833,
     "end_time": "2020-12-27T09:53:08.042398",
     "exception": false,
     "start_time": "2020-12-27T09:53:07.996565",
     "status": "completed"
    },
    "tags": []
   },
   "outputs": [],
   "source": []
  }
 ],
 "metadata": {
  "kernelspec": {
   "display_name": "Python 3",
   "language": "python",
   "name": "python3"
  },
  "language_info": {
   "codemirror_mode": {
    "name": "ipython",
    "version": 3
   },
   "file_extension": ".py",
   "mimetype": "text/x-python",
   "name": "python",
   "nbconvert_exporter": "python",
   "pygments_lexer": "ipython3",
   "version": "3.7.3"
  },
  "papermill": {
   "duration": 10076.779555,
   "end_time": "2020-12-27T09:53:09.623736",
   "environment_variables": {},
   "exception": null,
   "input_path": "__notebook__.ipynb",
   "output_path": "__notebook__.ipynb",
   "parameters": {},
   "start_time": "2020-12-27T07:05:12.844181",
   "version": "2.1.0"
  }
 },
 "nbformat": 4,
 "nbformat_minor": 4
}
